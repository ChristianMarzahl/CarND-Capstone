{
 "cells": [
  {
   "cell_type": "markdown",
   "metadata": {
    "collapsed": true
   },
   "source": [
    "# Quick step by step guide throw the traffic light detection process\n",
    "\n",
    "1) Download the training data provided by Shyam Jagannathan \n",
    "https://drive.google.com/drive/folders/0Bz-TOGv42ojzOHhpaXJFdjdfZTA\n",
    "\n",
    "2) Install https://github.com/tensorflow/models/tree/master/research/object_detection\n"
   ]
  },
  {
   "cell_type": "code",
   "execution_count": 1,
   "metadata": {
    "collapsed": true
   },
   "outputs": [
    {
     "name": "stderr",
     "output_type": "stream",
     "text": [
      "Using TensorFlow backend.\n"
     ]
    }
   ],
   "source": [
    "import tensorflow as tf\n",
    "import numpy as np\n",
    "import cv2\n",
    "import os\n",
    "import keras as K\n",
    "\n",
    "os.environ[\"CUDA_DEVICE_ORDER\"] = \"PCI_BUS_ID\"   # see issue #152\n",
    "os.environ[\"CUDA_VISIBLE_DEVICES\"] = \"0\"\n",
    "\n",
    "tf_config = tf.ConfigProto()\n",
    "tf_config.gpu_options.allow_growth = True\n",
    "\n",
    "# set this session as Keras Session\n",
    "K.backend.set_session(tf.Session(config=tf_config))"
   ]
  },
  {
   "cell_type": "code",
   "execution_count": 2,
   "metadata": {
    "collapsed": true
   },
   "outputs": [],
   "source": [
    "def read_record_file(filname : str):\n",
    "\n",
    "    record_iterator = tf.python_io.tf_record_iterator(filname)\n",
    "\n",
    "    records = []\n",
    "    for string_record in record_iterator:\n",
    "        example = tf.train.Example()\n",
    "        example.ParseFromString(string_record)\n",
    "\n",
    "        height = int(example.features.feature['image/height']\n",
    "                     .int64_list\n",
    "                     .value[0])\n",
    "\n",
    "        width = int(example.features.feature['image/width']\n",
    "                    .int64_list\n",
    "                    .value[0])\n",
    "\n",
    "        img_string = (example.features.feature['image/encoded']\n",
    "                                      .bytes_list\n",
    "                                      .value[0])\n",
    "\n",
    "        bbox_xmin = np.array(example.features.feature['image/object/bbox/xmin'].float_list.value) * width\n",
    "        bbox_xmax = np.array(example.features.feature['image/object/bbox/xmax'].float_list.value) * width\n",
    "        bbox_ymin = np.array(example.features.feature['image/object/bbox/ymin'].float_list.value) * height\n",
    "        bbox_ymax = np.array(example.features.feature['image/object/bbox/ymax'].float_list.value) * height\n",
    "\n",
    "        class_text = np.array(example.features.feature['image/object/class/text'].bytes_list.value)\n",
    "        class_label = np.array(example.features.feature['image/object/class/label'].int64_list.value)\n",
    "\n",
    "        img_1d = np.fromstring(img_string, dtype=np.uint8)\n",
    "        img = cv2.imdecode(img_1d,-1)\n",
    "\n",
    "        records.append([img, bbox_xmin, bbox_xmax, bbox_ymin, bbox_ymax, class_text, class_label])\n",
    "\n",
    "    return records"
   ]
  },
  {
   "cell_type": "code",
   "execution_count": 3,
   "metadata": {
    "collapsed": true
   },
   "outputs": [],
   "source": [
    "def draw_rect(img, xmin, xmax, ymin , ymax, id):\n",
    "\n",
    "    color = (0, 0, 0)\n",
    "    if id == 1:  # red\n",
    "        color = (0, 0, 255)\n",
    "    elif id == 2:  # yellow\n",
    "        color = (0, 255, 255)\n",
    "    elif id == 3:  # green\n",
    "        color = (0, 255, 0)\n",
    "\n",
    "    cv2.rectangle(img, (int(xmin), int(ymin)), (int(xmax), int(ymax)), color, 3)"
   ]
  },
  {
   "cell_type": "code",
   "execution_count": 4,
   "metadata": {},
   "outputs": [],
   "source": [
    "def perform_inference(detection_graph, example_records,score_threshold=0.5):\n",
    "\n",
    "    with detection_graph.as_default():\n",
    "        with tf.Session(graph=detection_graph) as sess:\n",
    "            # Definite input and output Tensors for detection_graph\n",
    "            image_tensor = detection_graph.get_tensor_by_name('image_tensor:0')\n",
    "\n",
    "            # Each box represents a part of the image where a particular object was detected.\n",
    "            detection_boxes = detection_graph.get_tensor_by_name('detection_boxes:0')\n",
    "\n",
    "            # Each score represent how level of confidence for each of the objects.\n",
    "            # Score is shown on the result image, together with the class label.\n",
    "            detection_scores = detection_graph.get_tensor_by_name('detection_scores:0')\n",
    "            detection_classes = detection_graph.get_tensor_by_name('detection_classes:0')\n",
    "            num_detections = detection_graph.get_tensor_by_name('num_detections:0')\n",
    "\n",
    "            for idx, record in enumerate(example_records):\n",
    "\n",
    "                img = record[0]\n",
    "\n",
    "                in_image_height = img.shape[0]\n",
    "                in_image_width = img.shape[1]\n",
    "\n",
    "                image_with_prediction = np.copy(img)\n",
    "                image_np_expanded = np.expand_dims(image_with_prediction, axis=0)\n",
    "\n",
    "                xmins, xmaxs, ymins, ymaxs, texts, labels = record[1:]\n",
    "\n",
    "                for xmin, xmax, ymin, ymax, text, label in zip(xmins, xmaxs, ymins, ymaxs, texts, labels):\n",
    "                    draw_rect(img, xmin, xmax, ymin, ymax, label)\n",
    "\n",
    "                (boxes, scores, classes, num) = sess.run(\n",
    "                    [detection_boxes, detection_scores, detection_classes, num_detections],\n",
    "                    feed_dict={image_tensor: image_np_expanded})\n",
    "\n",
    "                for box, score, id in zip(boxes[0], scores[0], classes[0]):\n",
    "                    if score > score_threshold:\n",
    "                        ymin, xmin, ymax, xmax = box\n",
    "\n",
    "                        ymin = int(ymin * in_image_height)\n",
    "                        ymax = int(ymax * in_image_height)\n",
    "\n",
    "                        xmin = int(xmin * in_image_width)\n",
    "                        xmax = int(xmax * in_image_width)\n",
    "\n",
    "                        draw_rect(image_with_prediction, xmin, xmax, ymin, ymax, id)\n",
    "\n",
    "                yield img, image_with_prediction"
   ]
  },
  {
   "cell_type": "markdown",
   "metadata": {},
   "source": [
    "## Training\n",
    "\n",
    "1. activate virtual python environment\n",
    "source ~/tensorflow/bin/activate\n",
    "\n",
    "2. Tensorboard\n",
    "tensorboard --logdir=model/eval/ --port=6009 &\n",
    "\n",
    "3. start train script\n",
    "python /home/c.marzahl@de.eu.local/ProgProjekte/Demo/models/object_detection/train.py --logtostderr --pipeline_config_path=pipeline_ssd_v1_sim.config --train_dir=model/train/ &\n",
    "\n",
    "\n",
    "4. start eval script \n",
    "python /home/c.marzahl@de.eu.local/ProgProjekte/Demo/models/object_detection/eval.py --logtostderr --pipeline_config_path=pipeline_ssd_v1_sim.config --checkpoint_dir=model_sim/train/ --eval_dir=model_sim/eval/ &\n",
    "\n",
    "5. compile model \n",
    "python /home/c.marzahl@de.eu.local/ProgProjekte/Demo/models/object_detection/export_inference_graph.py --input_type image_tensor --pipeline_config_path=pipeline_ssd_v1_sim.config --trained_checkpoint_prefix=model_sim/train/model.ckpt-1000 --output_directory=model_sim/train/inference\n",
    "\n",
    "\n",
    "\n",
    "\n",
    "\n"
   ]
  },
  {
   "cell_type": "code",
   "execution_count": 5,
   "metadata": {},
   "outputs": [],
   "source": [
    "tfrecords_filename = \"/data/Datasets/TrafficLightRecords/traffic-light-sim-train.record\"\n",
    "inference_path = \"/home/c.marzahl@de.eu.local/SelfDrivingCar/CarND-Capstone/ros/src/tl_detector/training/model_sim/inference/frozen_inference_graph.pb\""
   ]
  },
  {
   "cell_type": "code",
   "execution_count": 6,
   "metadata": {},
   "outputs": [],
   "source": [
    "### Data exploration visualization code goes here.\n",
    "### Feel free to use as many code cells as needed.\n",
    "import matplotlib.pyplot as plt\n",
    "# Visualizations will be shown in the notebook.\n",
    "%matplotlib inline"
   ]
  },
  {
   "cell_type": "code",
   "execution_count": 7,
   "metadata": {},
   "outputs": [],
   "source": [
    "records = read_record_file(tfrecords_filename)\n",
    "\n",
    "\n",
    "red_traffic_lights = [record for record in records if b'red' in record[5]]\n",
    "np.random.shuffle(red_traffic_lights)\n",
    "yellow_traffic_lights = [record for record in records if b'yellow' in record[5]]\n",
    "np.random.shuffle(yellow_traffic_lights)\n",
    "green_traffic_lights = [record for record in records if b'green' in record[5]]\n",
    "np.random.shuffle(green_traffic_lights)\n",
    "\n",
    "example_records = []\n",
    "example_records.extend(red_traffic_lights[:3])\n",
    "example_records.extend(yellow_traffic_lights[:3])\n",
    "example_records.extend(green_traffic_lights[:3])\n",
    "\n",
    "\n",
    "detection_graph = tf.Graph()\n",
    "\n",
    "with detection_graph.as_default():\n",
    "    od_graph_def = tf.GraphDef()\n",
    "\n",
    "    with tf.gfile.GFile(inference_path, 'rb') as fid:\n",
    "        serialized_graph = fid.read()\n",
    "        od_graph_def.ParseFromString(serialized_graph)\n",
    "        tf.import_graph_def(od_graph_def, name='')"
   ]
  },
  {
   "cell_type": "code",
   "execution_count": 10,
   "metadata": {
    "collapsed": false
   },
   "outputs": [
    {
     "data": {
      "image/png": "[encoded data removed]",
      "text/plain": [
       "<matplotlib.figure.Figure at 0x7f704a0407b8>"
      ]
     },
     "metadata": {},
     "output_type": "display_data"
    }
   ],
   "source": [
    "for img, image_with_prediction in perform_inference(detection_graph, example_records):\n",
    "    result = np.concatenate([img,image_with_prediction], axis=1)\n",
    " \n",
    "    result = cv2.cvtColor(result, cv2.COLOR_BGR2RGB)\n",
    "    plt.imshow(result)\n"
   ]
  },
  {
   "cell_type": "code",
   "execution_count": null,
   "metadata": {},
   "outputs": [],
   "source": [
    ""
   ]
  }
 ],
 "metadata": {
  "kernelspec": {
   "display_name": "Python 3",
   "language": "python",
   "name": "python3"
  },
  "language_info": {
   "codemirror_mode": {
    "name": "ipython",
    "version": 3.0
   },
   "file_extension": ".py",
   "mimetype": "text/x-python",
   "name": "python",
   "nbconvert_exporter": "python",
   "pygments_lexer": "ipython3",
   "version": "3.5.2"
  }
 },
 "nbformat": 4,
 "nbformat_minor": 0
}